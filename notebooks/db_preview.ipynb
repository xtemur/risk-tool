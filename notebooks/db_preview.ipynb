{
 "cells": [
  {
   "cell_type": "markdown",
   "id": "0",
   "metadata": {},
   "source": [
    "# Database Sanity Check\n",
    "\n",
    "This quick notebook lets you peek inside your local SQLite database to verify that data arrived as expected. Update `DB_PATH` below if your file lives elsewhere."
   ]
  },
  {
   "cell_type": "code",
   "execution_count": null,
   "id": "1",
   "metadata": {},
   "outputs": [],
   "source": [
    "import sqlite3\n",
    "from pathlib import Path\n",
    "\n",
    "import pandas as pd\n",
    "\n",
    "# === Adjust this if your DB lives elsewhere ===\n",
    "DB_PATH = Path(\"../data/trading_risk.db\")\n",
    "\n",
    "if not DB_PATH.exists():\n",
    "    raise FileNotFoundError(f\"Could not find database at {DB_PATH.resolve()}\")"
   ]
  },
  {
   "cell_type": "code",
   "execution_count": null,
   "id": "2",
   "metadata": {},
   "outputs": [],
   "source": [
    "conn = sqlite3.connect(DB_PATH)\n",
    "tables = pd.read_sql_query(\n",
    "    \"SELECT name FROM sqlite_master WHERE type='table' ORDER BY name;\", conn\n",
    ")[\"name\"].tolist()\n",
    "print(f\"Found {len(tables)} tables: {tables}\")"
   ]
  },
  {
   "cell_type": "markdown",
   "id": "3",
   "metadata": {},
   "source": [
    "## Preview each table\n",
    "The snippet below prints the first few rows and row count for every table."
   ]
  },
  {
   "cell_type": "code",
   "execution_count": null,
   "id": "4",
   "metadata": {},
   "outputs": [],
   "source": [
    "# display the last 10 rows of each table\n",
    "for tbl in tables:\n",
    "    print(f\"\\n=== {tbl} ===\")\n",
    "    df_head = pd.read_sql_query(\n",
    "        f\"SELECT * FROM {tbl} ORDER BY ROWID DESC LIMIT 20;\", conn\n",
    "    )\n",
    "    rowcount = pd.read_sql_query(f\"SELECT COUNT(*) AS n FROM {tbl};\", conn).iloc[0][\"n\"]\n",
    "    display(df_head.style.set_caption(f\"{tbl} — last 5 of {rowcount} rows\"))"
   ]
  },
  {
   "cell_type": "markdown",
   "id": "5",
   "metadata": {},
   "source": [
    "### Next steps\n",
    "- Filter or aggregate specific tables with standard SQL in `pd.read_sql_query()`\n",
    "- Add visual checks (histograms, time series plots) as needed."
   ]
  }
 ],
 "metadata": {
  "kernelspec": {
   "display_name": "risk-tool",
   "language": "python",
   "name": "python3"
  },
  "language_info": {
   "codemirror_mode": {
    "name": "ipython",
    "version": 3
   },
   "file_extension": ".py",
   "mimetype": "text/x-python",
   "name": "python",
   "nbconvert_exporter": "python",
   "pygments_lexer": "ipython3",
   "version": "3.9.7"
  }
 },
 "nbformat": 4,
 "nbformat_minor": 5
}
