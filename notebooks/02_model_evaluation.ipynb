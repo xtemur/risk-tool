{
 "cells": [
  {
   "cell_type": "code",
   "execution_count": null,
   "metadata": {},
   "outputs": [],
   "source": [
    "from src.pipeline.model_pipeline import ModelPipeline\n",
    "from src.database import Database\n",
    "\n",
    "# Load best model\n",
    "pipeline = ModelPipeline()\n",
    "model = pipeline.load_best_model()\n",
    "\n",
    "# Check feature importance\n",
    "importance = model.get_feature_importance(top_k=20)\n",
    "importance.plot(kind='barh', x='feature', y='importance')"
   ]
  }
 ],
 "metadata": {
  "kernelspec": {
   "display_name": "risk-tool",
   "language": "python",
   "name": "python3"
  },
  "language_info": {
   "name": "python",
   "version": "3.9.7"
  }
 },
 "nbformat": 4,
 "nbformat_minor": 2
}
