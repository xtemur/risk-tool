{
 "cells": [
  {
   "cell_type": "code",
   "execution_count": null,
   "metadata": {},
   "outputs": [],
   "source": [
    "import sys\n",
    "from pathlib import Path\n",
    "\n",
    "# Add parent directory to path\n",
    "notebook_dir = Path.cwd()\n",
    "project_root = notebook_dir.parent\n",
    "sys.path.append(str(project_root))\n",
    "\n",
    "# Now import with correct path\n",
    "from src.database import Database\n",
    "from src.pipeline.data_validator import DataValidator\n",
    "\n",
    "# Initialize database with correct path\n",
    "db = Database(db_path=str(project_root / \"data\" / \"trading.db\"))\n",
    "\n",
    "# Check if database file exists\n",
    "db_path = project_root / \"data\" / \"trading.db\"\n",
    "print(f\"Database path: {db_path}\")\n",
    "print(f\"Database exists: {db_path.exists()}\")\n",
    "print(f\"Database size: {db_path.stat().st_size / 1024 / 1024:.2f} MB\" if db_path.exists() else \"N/A\")\n",
    "\n",
    "# Now try loading traders\n",
    "traders = db.get_all_traders()\n",
    "print(f\"\\nFound {len(traders)} traders\")\n",
    "\n",
    "if len(traders) > 0:\n",
    "    print(\"\\nTraders overview:\")\n",
    "    print(traders[['account_id', 'trader_name', 'trading_days', 'total_pnl']].head(10))"
   ]
  },
  {
   "cell_type": "code",
   "execution_count": null,
   "metadata": {},
   "outputs": [],
   "source": [
    "# Validate data for first few traders\n",
    "validator = DataValidator()\n",
    "\n",
    "for _, trader in traders.head(3).iterrows():\n",
    "    print(f\"\\n{'='*60}\")\n",
    "    print(f\"Analyzing {trader['trader_name']} (ID: {trader['account_id']})\")\n",
    "    print(f\"Trading days: {trader['trading_days']}, Total P&L: ${trader['total_pnl']:,.2f}\")\n",
    "    \n",
    "    # Get detailed data\n",
    "    totals, fills = db.get_trader_data(trader['account_id'])\n",
    "    \n",
    "    print(f\"Totals records: {len(totals)}\")\n",
    "    print(f\"Fills records: {len(fills)}\")\n",
    "    \n",
    "    # Validate\n",
    "    result = validator.validate_combined(totals, fills)\n",
    "    print(f\"Validation: {'✓ PASSED' if result.is_valid else '✗ FAILED'}\")\n",
    "    \n",
    "    if result.errors:\n",
    "        print(\"Errors:\", result.errors[:2])  # First 2 errors\n",
    "    if result.warnings:\n",
    "        print(\"Warnings:\", result.warnings[:2])  # First 2 warnings"
   ]
  },
  {
   "cell_type": "code",
   "execution_count": null,
   "metadata": {},
   "outputs": [],
   "source": [
    "import matplotlib.pyplot as plt\n",
    "\n",
    "# Pick a trader with good data\n",
    "trader_id = \"3957\"\n",
    "totals, fills = db.get_trader_data(trader_id)\n",
    "\n",
    "display(totals.tail())\n",
    "\n",
    "\n",
    "if not totals.empty:\n",
    "    # Plot P&L over time\n",
    "    fig, (ax1, ax2) = plt.subplots(2, 1, figsize=(12, 8))\n",
    "    \n",
    "    trader_name = db.get_trader_data\n",
    "    \n",
    "    # Daily P&L\n",
    "    ax1.plot(totals['date'], totals['net_pnl'])\n",
    "    ax1.set_title(f\"Daily\")\n",
    "    ax1.set_ylabel(\"Net P&L ($)\")\n",
    "    \n",
    "    # Cumulative P&L\n",
    "    ax2.plot(totals['date'], totals['net_pnl'].cumsum())\n",
    "    ax2.set_title(\"Cumulative P&L\")\n",
    "    ax2.set_ylabel(\"Cumulative P&L ($)\")\n",
    "    ax2.set_xlabel(\"Date\")\n",
    "    \n",
    "    plt.tight_layout()\n",
    "    plt.show()\n",
    "    "
   ]
  },
  {
   "cell_type": "code",
   "execution_count": null,
   "metadata": {},
   "outputs": [],
   "source": []
  }
 ],
 "metadata": {
  "kernelspec": {
   "display_name": "risk-tool",
   "language": "python",
   "name": "python3"
  },
  "language_info": {
   "codemirror_mode": {
    "name": "ipython",
    "version": 3
   },
   "file_extension": ".py",
   "mimetype": "text/x-python",
   "name": "python",
   "nbconvert_exporter": "python",
   "pygments_lexer": "ipython3",
   "version": "3.9.7"
  }
 },
 "nbformat": 4,
 "nbformat_minor": 2
}
